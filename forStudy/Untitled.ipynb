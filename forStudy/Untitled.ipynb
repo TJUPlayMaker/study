{
 "cells": [
  {
   "cell_type": "code",
   "execution_count": 4,
   "id": "42301e75-c6da-47c2-8e55-50e4545be8fb",
   "metadata": {},
   "outputs": [
    {
     "name": "stdout",
     "output_type": "stream",
     "text": [
      "hahahah\n"
     ]
    }
   ],
   "source": [
    "print(\"hahahah\")"
   ]
  },
  {
   "cell_type": "code",
   "execution_count": null,
   "id": "5f79c265-3ee1-4c9d-b1ec-0bfd4b46fdca",
   "metadata": {},
   "outputs": [],
   "source": []
  }
 ],
 "metadata": {
  "kernelspec": {
   "display_name": "Python 3 (ipykernel)",
   "language": "python",
   "name": "python3"
  },
  "language_info": {
   "codemirror_mode": {
    "name": "ipython",
    "version": 3
   },
   "file_extension": ".py",
   "mimetype": "text/x-python",
   "name": "python",
   "nbconvert_exporter": "python",
   "pygments_lexer": "ipython3",
   "version": "3.12.1"
  }
 },
 "nbformat": 4,
 "nbformat_minor": 5
}
